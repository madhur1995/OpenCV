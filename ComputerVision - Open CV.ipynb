{
 "cells": [
  {
   "cell_type": "code",
   "execution_count": 1,
   "id": "f14558ec",
   "metadata": {},
   "outputs": [],
   "source": [
    "import numpy as np\n",
    "import pandas as pd"
   ]
  },
  {
   "cell_type": "code",
   "execution_count": 2,
   "id": "36297cf8",
   "metadata": {},
   "outputs": [],
   "source": [
    "# Computer Vison2 is supported by OPENCV library\n",
    "import cv2"
   ]
  },
  {
   "cell_type": "code",
   "execution_count": 8,
   "id": "e46fef71",
   "metadata": {},
   "outputs": [],
   "source": [
    "# Load the image for understanding\n",
    "# step no - 1 : import the image\n",
    "input = cv2.imread('.\\Images\\Jeffrey Hinton.jpg')\n",
    "\n",
    "# step 2 : to visualise the image\n",
    "cv2.imshow('Father of Backpropogation',input)\n",
    "\n",
    "# step 3 : we wanted to see the image in jupyter notebook\n",
    "cv2.waitKey()\n",
    "\n",
    "# step 4 : to close the image\n",
    "cv2.destroyAllWindows()"
   ]
  },
  {
   "cell_type": "code",
   "execution_count": 10,
   "id": "6693dd0c",
   "metadata": {},
   "outputs": [],
   "source": [
    "# Load the image for understanding\n",
    "# step no - 1 : import the image\n",
    "input = cv2.imread('.\\Images\\Modi.jpg')\n",
    "\n",
    "# step 2 : to visualise the image\n",
    "cv2.imshow('PM of India',input)\n",
    "\n",
    "# step 3 : we wanted to see the image in jupyter notebook\n",
    "cv2.waitKey()\n",
    "\n",
    "# step 4 : to close the image\n",
    "cv2.destroyAllWindows()"
   ]
  },
  {
   "cell_type": "code",
   "execution_count": null,
   "id": "b7e38269",
   "metadata": {},
   "outputs": [],
   "source": [
    "# I wanted to see the shape of the image\n",
    "# x-axis, y-axis, width, height\n",
    "# pixel - 32*32*greyscale/rgb\n",
    "\n"
   ]
  },
  {
   "cell_type": "code",
   "execution_count": 9,
   "id": "5a9791f1",
   "metadata": {},
   "outputs": [
    {
     "name": "stdout",
     "output_type": "stream",
     "text": [
      "(183, 275, 3)\n"
     ]
    }
   ],
   "source": [
    "print(input.shape)"
   ]
  },
  {
   "cell_type": "code",
   "execution_count": 18,
   "id": "8e071efa",
   "metadata": {},
   "outputs": [
    {
     "name": "stderr",
     "output_type": "stream",
     "text": [
      "<>:21: SyntaxWarning: \"is\" with a literal. Did you mean \"==\"?\n",
      "<>:21: SyntaxWarning: \"is\" with a literal. Did you mean \"==\"?\n",
      "<ipython-input-18-74477ebc77be>:21: SyntaxWarning: \"is\" with a literal. Did you mean \"==\"?\n",
      "  if faces is ():\n"
     ]
    }
   ],
   "source": [
    "# step 1 : import haarcasede xml file\n",
    "face_classifier = cv2.CascadeClassifier('.\\Haarcascades\\haarcascade_frontalface_default.xml')\n",
    "\n",
    "# step 2 : import image\n",
    "image = cv2.imread('.\\Images\\Modi.jpg')\n",
    "# \"C:\\Users\\Lenovo\\Desktop\\ComputerVision\\Images\\grayscale.jpg\"\n",
    "# \"C:\\Users\\Lenovo\\Desktop\\ComputerVision\\Images\\prabhas.jpg\"\n",
    "# \"C:\\Users\\Lenovo\\Desktop\\ComputerVision\\Images\\dogsimage.jpg\"\n",
    "# \"C:\\Users\\Lenovo\\Desktop\\ComputerVision\\Images\\sudoku.PNG\"\n",
    "# \"C:\\Users\\Lenovo\\Desktop\\ComputerVision\\Images\\Modi.jpg\"\n",
    "\n",
    "# step 3 : convert RGB to Grey\n",
    "gray = cv2.cvtColor(image, cv2.COLOR_BGR2GRAY)\n",
    "\n",
    "# step 4 :  creating ractangle on the faces\n",
    "\n",
    "faces = face_classifier.detectMultiScale(gray, 1.3,5)\n",
    "\n",
    "# step 5 : condition\n",
    "\n",
    "if faces is ():\n",
    "    print(\"No faces found\")\n",
    "    \n",
    "for (x, y, w, h) in faces:\n",
    "    cv2.rectangle(image, (x,y),(x+w, y+h), (127,0,255),2)\n",
    "    cv2.imshow('Face Detection', image)\n",
    "    cv2.waitKey()\n",
    "\n",
    "cv2.destroyAllWindows()\n"
   ]
  },
  {
   "cell_type": "code",
   "execution_count": 28,
   "id": "0bc02d92",
   "metadata": {},
   "outputs": [
    {
     "name": "stderr",
     "output_type": "stream",
     "text": [
      "<>:23: SyntaxWarning: \"is\" with a literal. Did you mean \"==\"?\n",
      "<>:23: SyntaxWarning: \"is\" with a literal. Did you mean \"==\"?\n",
      "<ipython-input-28-ee64373040e9>:23: SyntaxWarning: \"is\" with a literal. Did you mean \"==\"?\n",
      "  if faces is ():\n"
     ]
    }
   ],
   "source": [
    "# step 1 : import haarcasede xml file\n",
    "face_classifier = cv2.CascadeClassifier('.\\Haarcascades\\haarcascade_frontalface_default.xml')\n",
    "eye_classifier = cv2.CascadeClassifier('.\\Haarcascades\\haarcascade_eye.xml')\n",
    "\n",
    "# step 2 : import image\n",
    "img = cv2.imread('.\\Images\\Trump.jpg')\n",
    "# \"C:\\Users\\Lenovo\\Desktop\\ComputerVision\\Images\\grayscale.jpg\"\n",
    "# \"C:\\Users\\Lenovo\\Desktop\\ComputerVision\\Images\\prabhas.jpg\"\n",
    "# \"C:\\Users\\Lenovo\\Desktop\\ComputerVision\\Images\\dogsimage.jpg\"\n",
    "# \"C:\\Users\\Lenovo\\Desktop\\ComputerVision\\Images\\sudoku.PNG\"\n",
    "# \"C:\\Users\\Lenovo\\Desktop\\ComputerVision\\Images\\Modi.jpg\"\n",
    "# \"C:\\Users\\Lenovo\\Desktop\\ComputerVision\\Images\\Trump.jpg\"\n",
    "\n",
    "# step 3 : convert RGB to Grey\n",
    "gray = cv2.cvtColor(img, cv2.COLOR_BGR2GRAY)\n",
    "\n",
    "# step 4 :  creating ractangle on the faces\n",
    "\n",
    "faces = face_classifier.detectMultiScale(gray, 1.3,5)\n",
    "\n",
    "# step 5 : condition\n",
    "\n",
    "if faces is ():\n",
    "    print(\"No faces found\")\n",
    "    \n",
    "for (x, y, w, h) in faces:\n",
    "    cv2.rectangle(img, (x,y),(x+w, y+h), (127,0,255),2)\n",
    "    cv2.imshow('img', img)\n",
    "    cv2.waitKey(0)\n",
    "    roi_gray = gray[y:y+h, x:x+w]\n",
    "    roi_color = img[y:y+h, x:x+w]\n",
    "    eyes=eye_classifier.detectMultiScale(roi_gray)\n",
    "    for (ex, ey, ew, eh) in eyes:\n",
    "        cv2.rectangle(roi_color, (ex,ey),(ex+ew, ey+eh),(255,255,0),2)\n",
    "        cv2.imshow('img', img)\n",
    "        cv2.waitKey(0)\n",
    "\n",
    "cv2.destroyAllWindows()"
   ]
  },
  {
   "cell_type": "code",
   "execution_count": null,
   "id": "dd7961aa",
   "metadata": {},
   "outputs": [],
   "source": []
  }
 ],
 "metadata": {
  "kernelspec": {
   "display_name": "Python 3",
   "language": "python",
   "name": "python3"
  },
  "language_info": {
   "codemirror_mode": {
    "name": "ipython",
    "version": 3
   },
   "file_extension": ".py",
   "mimetype": "text/x-python",
   "name": "python",
   "nbconvert_exporter": "python",
   "pygments_lexer": "ipython3",
   "version": "3.8.8"
  }
 },
 "nbformat": 4,
 "nbformat_minor": 5
}
