{
 "cells": [
  {
   "cell_type": "code",
   "execution_count": 1,
   "id": "a638953a",
   "metadata": {},
   "outputs": [],
   "source": [
    "import numpy as np\n",
    "import pandas as pd\n",
    "import matplotlib.pyplot as plt\n",
    "%matplotlib inline\n",
    "import cv2\n",
    "\n",
    "from PIL import Image"
   ]
  },
  {
   "cell_type": "code",
   "execution_count": 2,
   "id": "ac06d3c0",
   "metadata": {},
   "outputs": [],
   "source": [
    "def viewImage(image, name_of_window):\n",
    "    cv2.namedWindow(name_of_window, cv2.WINDOW_NORMAL)\n",
    "    cv2.imshow(name_of_window, image)\n",
    "    cv2.waitKey(0)\n",
    "    cv2.destroyAllWindows()  "
   ]
  },
  {
   "cell_type": "code",
   "execution_count": 3,
   "id": "4f629ce7",
   "metadata": {},
   "outputs": [],
   "source": [
    "import cv2, time\n",
    "video = cv2.VideoCapture(0)\n",
    "check, frame = video.read()\n",
    "time.sleep(1)\n",
    "cv2.imshow('Capture', frame)\n",
    "cv2.waitKey(0)\n",
    "video.release()\n",
    "cv2.destroyAllWindows()"
   ]
  },
  {
   "cell_type": "code",
   "execution_count": 6,
   "id": "12237a25",
   "metadata": {},
   "outputs": [
    {
     "name": "stdout",
     "output_type": "stream",
     "text": [
      "No of frames captured : 375\n"
     ]
    }
   ],
   "source": [
    "import cv2, time\n",
    "video = cv2.VideoCapture(0)\n",
    "a = 1\n",
    "while True:\n",
    "    a = a+1\n",
    "    check, frame = video.read()    \n",
    "    gray = cv2.cvtColor(frame, cv2.COLOR_BGR2GRAY)\n",
    "    cv2.imshow('Capture', gray)\n",
    "    key = cv2.waitKey(1)\n",
    "    \n",
    "    if key == ord('q'):\n",
    "        break      \n",
    "print(f'No of frames captured : {a}')\n",
    "video.release()\n",
    "cv2.destroyAllWindows()"
   ]
  },
  {
   "cell_type": "code",
   "execution_count": 9,
   "id": "9a5b2588",
   "metadata": {},
   "outputs": [
    {
     "name": "stdout",
     "output_type": "stream",
     "text": [
      "<class 'numpy.ndarray'>\n",
      "[[1084  438  351  351]\n",
      " [ 411  471  328  328]\n",
      " [1124  830  218  218]]\n"
     ]
    }
   ],
   "source": [
    "# step 1 : import haarcasede xml file\n",
    "face_classifier = cv2.CascadeClassifier('.\\Haarcascades\\haarcascade_frontalface_default.xml')\n",
    "#eye_classifier = cv2.CascadeClassifier('.\\Haarcascades\\haarcascade_eye.xml')\n",
    "\n",
    "img = cv2.imread('sample_image.jpeg',1)\n",
    "\n",
    "gray_img = cv2.cvtColor(img, cv2.COLOR_BGR2GRAY)\n",
    "\n",
    "faces = face_classifier.detectMultiScale(gray_img, scaleFactor=1.05, minNeighbors = 5)\n",
    "\n",
    "print(type(faces))\n",
    "print(faces)\n",
    "\n",
    "# co-ordinates\n",
    "\n",
    "for (x,y,w,h) in faces:\n",
    "    img= cv2.rectangle(img, (x,y),(x+w, y+h), (0,255,0),3)\n",
    "    \n",
    "cv2.imshow('face detect', img)\n",
    "cv2.waitKey(0)\n",
    "cv2.destroyAllWindows()"
   ]
  },
  {
   "cell_type": "code",
   "execution_count": 13,
   "id": "af2b8489",
   "metadata": {},
   "outputs": [
    {
     "name": "stdout",
     "output_type": "stream",
     "text": [
      "<class 'numpy.ndarray'>\n",
      "[[1084  438  351  351]\n",
      " [ 411  471  328  328]\n",
      " [1124  830  218  218]]\n"
     ]
    }
   ],
   "source": [
    "# step 1 : import haarcasede xml file\n",
    "face_classifier = cv2.CascadeClassifier('.\\Haarcascades\\haarcascade_frontalface_default.xml')\n",
    "eye_classifier = cv2.CascadeClassifier('.\\Haarcascades\\haarcascade_eye.xml')\n",
    "\n",
    "img = cv2.imread('sample_image.jpeg',1)\n",
    "\n",
    "gray_img = cv2.cvtColor(img, cv2.COLOR_BGR2GRAY)\n",
    "\n",
    "faces = face_classifier.detectMultiScale(gray_img, scaleFactor=1.05, minNeighbors = 5)\n",
    "\n",
    "print(type(faces))\n",
    "print(faces)\n",
    "\n",
    "# co-ordinates\n",
    "\n",
    "for (x,y,w,h) in faces:\n",
    "    img= cv2.rectangle(img, (x,y),(x+w, y+h), (0,255,0),3)\n",
    "    \n",
    "    roi_gray = gray_img[y:y+h, x:x+w]\n",
    "    roi_color = img[y:y+h, x:x+w]\n",
    "    eyes=eye_classifier.detectMultiScale(roi_gray)\n",
    "    \n",
    "    for (ex, ey, ew, eh) in eyes:\n",
    "        cv2.rectangle(roi_color, (ex,ey),(ex+ew, ey+eh),(0,255,111),2)\n",
    "           \n",
    "    \n",
    "cv2.imshow('face & eye detect', img)\n",
    "cv2.waitKey(0)\n",
    "cv2.destroyAllWindows()"
   ]
  },
  {
   "cell_type": "code",
   "execution_count": null,
   "id": "35c2aa38",
   "metadata": {},
   "outputs": [],
   "source": [
    "# real time example"
   ]
  },
  {
   "cell_type": "code",
   "execution_count": 16,
   "id": "92aeb0b9",
   "metadata": {},
   "outputs": [],
   "source": [
    "# haarcascades means we are giving training to our system/machine to identify such images \n",
    "\n",
    "face_cascade = cv2.CascadeClassifier('.\\Haarcascades\\haarcascade_frontalface_default.xml')\n",
    "eye_cascade = cv2.CascadeClassifier('.\\Haarcascades\\haarcascade_eye.xml')\n",
    "\n",
    "def detect(gray, frame):\n",
    "    faces = face_cascade.detectMultiScale(gray, scaleFactor=1.05, minNeighbors = 5)\n",
    "    \n",
    "    for (x,y,w,h) in faces:\n",
    "        cv2.rectangle(frame, (x,y),(x+w, y+h), (0,255,0),3)\n",
    "        roi_gray = gray[y:y+h, x:x+w]\n",
    "        roi_color = frame[y:y+h, x:x+w]\n",
    "        eyes=eye_cascade.detectMultiScale(roi_gray,1.1,2)\n",
    "    \n",
    "        for (ex, ey, ew, eh) in eyes:\n",
    "            cv2.rectangle(roi_color, (ex,ey),(ex+ew, ey+eh),(0,255,111),2)\n",
    "    return frame\n",
    "# using webcam to detect my face and eyes\n",
    "\n",
    "video = cv2.VideoCapture(0)\n",
    "while True:\n",
    "    check, frame = video.read()\n",
    "    gray = cv2.cvtColor(frame, cv2.COLOR_BGR2GRAY)\n",
    "    detection = detect(gray, frame)\n",
    "    cv2.imshow('my face and eye detect by webcam', detection)\n",
    "    \n",
    "    key = cv2.waitKey(1)\n",
    "    if key ==ord('q'):\n",
    "        break\n",
    "video.release()\n",
    "cv2.destroyAllWindows()"
   ]
  },
  {
   "cell_type": "code",
   "execution_count": null,
   "id": "17e52853",
   "metadata": {},
   "outputs": [],
   "source": [
    "# real time example 2\n"
   ]
  },
  {
   "cell_type": "code",
   "execution_count": 19,
   "id": "455a50e6",
   "metadata": {},
   "outputs": [],
   "source": [
    "body_classifier = cv2.CascadeClassifier('.\\Haarcascades\\haarcascade_fullbody.xml')\n",
    "\n",
    "cap = cv2.VideoCapture('.\\Images\\walking.avi')\n",
    "\n",
    "while cap.isOpened():\n",
    "    ret, frame = cap.read()\n",
    "    gray = cv2.cvtColor(frame, cv2.COLOR_BGR2GRAY)\n",
    "    bodies = body_classifier.detectMultiScale(gray, 1.2,3)\n",
    "    \n",
    "    for (x,y,w,h) in bodies:\n",
    "        cv2.rectangle(frame, (x,y),(x+w, y+h), (0,255,255),2)\n",
    "        cv2.imshow('Walking people on the road', frame)\n",
    "        \n",
    "    if cv2.waitKey(1)==13:\n",
    "        break\n",
    "cap.release()\n",
    "cv2.destroyAllWindows()"
   ]
  },
  {
   "cell_type": "code",
   "execution_count": 21,
   "id": "fb5c1a12",
   "metadata": {},
   "outputs": [],
   "source": [
    "import cv2, time\n",
    "\n",
    "body_classifier = cv2.CascadeClassifier('.\\Haarcascades\\haarcascade_car.xml')\n",
    "\n",
    "cap = cv2.VideoCapture('.\\Images\\cars.avi')\n",
    "\n",
    "while cap.isOpened():\n",
    "    time.sleep(0.05)\n",
    "    ret, frame = cap.read()\n",
    "    gray = cv2.cvtColor(frame, cv2.COLOR_BGR2GRAY)\n",
    "    bodies = body_classifier.detectMultiScale(gray, 1.2,3)\n",
    "    \n",
    "    for (x,y,w,h) in bodies:\n",
    "        cv2.rectangle(frame, (x,y),(x+w, y+h), (0,255,255),2)\n",
    "        cv2.imshow('Car is running on the highway', frame)\n",
    "        \n",
    "    if cv2.waitKey(1)==13:\n",
    "        break\n",
    "cap.release()\n",
    "cv2.destroyAllWindows()"
   ]
  },
  {
   "cell_type": "code",
   "execution_count": null,
   "id": "c4ad344d",
   "metadata": {},
   "outputs": [],
   "source": []
  },
  {
   "cell_type": "code",
   "execution_count": null,
   "id": "2a0e7dd2",
   "metadata": {},
   "outputs": [],
   "source": []
  }
 ],
 "metadata": {
  "kernelspec": {
   "display_name": "Python 3",
   "language": "python",
   "name": "python3"
  },
  "language_info": {
   "codemirror_mode": {
    "name": "ipython",
    "version": 3
   },
   "file_extension": ".py",
   "mimetype": "text/x-python",
   "name": "python",
   "nbconvert_exporter": "python",
   "pygments_lexer": "ipython3",
   "version": "3.8.8"
  }
 },
 "nbformat": 4,
 "nbformat_minor": 5
}
